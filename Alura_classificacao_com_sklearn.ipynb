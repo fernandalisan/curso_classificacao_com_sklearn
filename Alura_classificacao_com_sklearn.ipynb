{
 "cells": [
  {
   "cell_type": "markdown",
   "id": "c9a280f2",
   "metadata": {},
   "source": [
    "## Importando bibliotecas "
   ]
  },
  {
   "cell_type": "code",
   "execution_count": 98,
   "id": "5c3f56af",
   "metadata": {},
   "outputs": [],
   "source": [
    "import pandas as pd\n",
    "\n",
    "from sklearn.svm      import LinearSVC\n",
    "from sklearn.metrics  import accuracy_score"
   ]
  },
  {
   "cell_type": "markdown",
   "id": "001eb671",
   "metadata": {},
   "source": [
    "## Criando o dataset (features e as classes e linhas)"
   ]
  },
  {
   "cell_type": "markdown",
   "id": "d5c21bab",
   "metadata": {},
   "source": [
    "A variável \"dados\" são as linhas e a variável classes são as respostas dizendo se o animal é 1 => porco, 0 => cachorro.\n",
    "\n",
    "Onde: porco 1, 2 e 3 e cachorro 1, 2 e 3 são os dados/linhas, porco e cachorro são as features(x) e classes são o alvo(y)"
   ]
  },
  {
   "cell_type": "code",
   "execution_count": 99,
   "id": "ceec5540",
   "metadata": {},
   "outputs": [],
   "source": [
    "# features (1 sim, 0 não)\n",
    "# pelo longo? \n",
    "# perna curta?\n",
    "# faz auau?\n",
    "porco1 = [0, 1, 0]\n",
    "porco2 = [0, 1, 1]\n",
    "porco3 = [1, 1, 0]\n",
    "\n",
    "cachorro1 = [0, 1, 1]\n",
    "cachorro2 = [1, 0, 1]\n",
    "cachorro3 = [1, 1, 1]\n",
    "\n",
    "# 1 => porco, 0 => cachorro\n",
    "#dados\n",
    "train_x = [porco1, porco2, porco3, cachorro1, cachorro2, cachorro3]\n",
    "#classes\n",
    "train_y= [1,1,1,0,0,0]"
   ]
  },
  {
   "cell_type": "markdown",
   "id": "e220492b",
   "metadata": {},
   "source": [
    "## Criando o modelo de classificação "
   ]
  },
  {
   "cell_type": "code",
   "execution_count": 100,
   "id": "9d1a2d41",
   "metadata": {},
   "outputs": [
    {
     "data": {
      "text/html": [
       "<style>#sk-container-id-4 {color: black;background-color: white;}#sk-container-id-4 pre{padding: 0;}#sk-container-id-4 div.sk-toggleable {background-color: white;}#sk-container-id-4 label.sk-toggleable__label {cursor: pointer;display: block;width: 100%;margin-bottom: 0;padding: 0.3em;box-sizing: border-box;text-align: center;}#sk-container-id-4 label.sk-toggleable__label-arrow:before {content: \"▸\";float: left;margin-right: 0.25em;color: #696969;}#sk-container-id-4 label.sk-toggleable__label-arrow:hover:before {color: black;}#sk-container-id-4 div.sk-estimator:hover label.sk-toggleable__label-arrow:before {color: black;}#sk-container-id-4 div.sk-toggleable__content {max-height: 0;max-width: 0;overflow: hidden;text-align: left;background-color: #f0f8ff;}#sk-container-id-4 div.sk-toggleable__content pre {margin: 0.2em;color: black;border-radius: 0.25em;background-color: #f0f8ff;}#sk-container-id-4 input.sk-toggleable__control:checked~div.sk-toggleable__content {max-height: 200px;max-width: 100%;overflow: auto;}#sk-container-id-4 input.sk-toggleable__control:checked~label.sk-toggleable__label-arrow:before {content: \"▾\";}#sk-container-id-4 div.sk-estimator input.sk-toggleable__control:checked~label.sk-toggleable__label {background-color: #d4ebff;}#sk-container-id-4 div.sk-label input.sk-toggleable__control:checked~label.sk-toggleable__label {background-color: #d4ebff;}#sk-container-id-4 input.sk-hidden--visually {border: 0;clip: rect(1px 1px 1px 1px);clip: rect(1px, 1px, 1px, 1px);height: 1px;margin: -1px;overflow: hidden;padding: 0;position: absolute;width: 1px;}#sk-container-id-4 div.sk-estimator {font-family: monospace;background-color: #f0f8ff;border: 1px dotted black;border-radius: 0.25em;box-sizing: border-box;margin-bottom: 0.5em;}#sk-container-id-4 div.sk-estimator:hover {background-color: #d4ebff;}#sk-container-id-4 div.sk-parallel-item::after {content: \"\";width: 100%;border-bottom: 1px solid gray;flex-grow: 1;}#sk-container-id-4 div.sk-label:hover label.sk-toggleable__label {background-color: #d4ebff;}#sk-container-id-4 div.sk-serial::before {content: \"\";position: absolute;border-left: 1px solid gray;box-sizing: border-box;top: 0;bottom: 0;left: 50%;z-index: 0;}#sk-container-id-4 div.sk-serial {display: flex;flex-direction: column;align-items: center;background-color: white;padding-right: 0.2em;padding-left: 0.2em;position: relative;}#sk-container-id-4 div.sk-item {position: relative;z-index: 1;}#sk-container-id-4 div.sk-parallel {display: flex;align-items: stretch;justify-content: center;background-color: white;position: relative;}#sk-container-id-4 div.sk-item::before, #sk-container-id-4 div.sk-parallel-item::before {content: \"\";position: absolute;border-left: 1px solid gray;box-sizing: border-box;top: 0;bottom: 0;left: 50%;z-index: -1;}#sk-container-id-4 div.sk-parallel-item {display: flex;flex-direction: column;z-index: 1;position: relative;background-color: white;}#sk-container-id-4 div.sk-parallel-item:first-child::after {align-self: flex-end;width: 50%;}#sk-container-id-4 div.sk-parallel-item:last-child::after {align-self: flex-start;width: 50%;}#sk-container-id-4 div.sk-parallel-item:only-child::after {width: 0;}#sk-container-id-4 div.sk-dashed-wrapped {border: 1px dashed gray;margin: 0 0.4em 0.5em 0.4em;box-sizing: border-box;padding-bottom: 0.4em;background-color: white;}#sk-container-id-4 div.sk-label label {font-family: monospace;font-weight: bold;display: inline-block;line-height: 1.2em;}#sk-container-id-4 div.sk-label-container {text-align: center;}#sk-container-id-4 div.sk-container {/* jupyter's `normalize.less` sets `[hidden] { display: none; }` but bootstrap.min.css set `[hidden] { display: none !important; }` so we also need the `!important` here to be able to override the default hidden behavior on the sphinx rendered scikit-learn.org. See: https://github.com/scikit-learn/scikit-learn/issues/21755 */display: inline-block !important;position: relative;}#sk-container-id-4 div.sk-text-repr-fallback {display: none;}</style><div id=\"sk-container-id-4\" class=\"sk-top-container\"><div class=\"sk-text-repr-fallback\"><pre>LinearSVC()</pre><b>In a Jupyter environment, please rerun this cell to show the HTML representation or trust the notebook. <br />On GitHub, the HTML representation is unable to render, please try loading this page with nbviewer.org.</b></div><div class=\"sk-container\" hidden><div class=\"sk-item\"><div class=\"sk-estimator sk-toggleable\"><input class=\"sk-toggleable__control sk-hidden--visually\" id=\"sk-estimator-id-4\" type=\"checkbox\" checked><label for=\"sk-estimator-id-4\" class=\"sk-toggleable__label sk-toggleable__label-arrow\">LinearSVC</label><div class=\"sk-toggleable__content\"><pre>LinearSVC()</pre></div></div></div></div></div>"
      ],
      "text/plain": [
       "LinearSVC()"
      ]
     },
     "execution_count": 100,
     "metadata": {},
     "output_type": "execute_result"
    }
   ],
   "source": [
    "model = LinearSVC()\n",
    "model.fit(train_x, train_y)"
   ]
  },
  {
   "cell_type": "markdown",
   "id": "359f0c4e",
   "metadata": {},
   "source": [
    "## Previsão de qual categoria é o 'animal misterioso' sendo 0 para cachorro e 1 para porco"
   ]
  },
  {
   "cell_type": "code",
   "execution_count": 101,
   "id": "2c6e3e19",
   "metadata": {},
   "outputs": [
    {
     "name": "stdout",
     "output_type": "stream",
     "text": [
      "O modelo previu que o animal misterioso é: [0]\n"
     ]
    }
   ],
   "source": [
    "animal_misterioso = [1,1,1]\n",
    "previsao = model.predict([animal_misterioso])\n",
    "print(f'O modelo previu que o animal misterioso é: {previsao}')"
   ]
  },
  {
   "cell_type": "markdown",
   "id": "bab2d8a8",
   "metadata": {},
   "source": [
    "## Previsão do dataset 'teste', sendo 0 para cachorro e 1 para porco"
   ]
  },
  {
   "cell_type": "code",
   "execution_count": 102,
   "id": "ea80daeb",
   "metadata": {},
   "outputs": [],
   "source": [
    "misterio1 = [1,1,1]\n",
    "misterio2 = [1,1,0]\n",
    "misterio3 = [0,1,1]\n",
    "\n",
    "#dataset teste\n",
    "teste_x = [misterio1, misterio2, misterio3]\n",
    "#resultado_correto_das_previsoes \n",
    "teste_y= [0,1,1]"
   ]
  },
  {
   "cell_type": "code",
   "execution_count": 103,
   "id": "97e5619f",
   "metadata": {},
   "outputs": [
    {
     "name": "stdout",
     "output_type": "stream",
     "text": [
      "O modelo previu que os animais do \"teste\" são: [0 1 0]\n"
     ]
    }
   ],
   "source": [
    "#criação do modelo\n",
    "previsoes = model.predict(teste_x)\n",
    "print(f'O modelo previu que os animais do \"teste\" são: {previsoes}')"
   ]
  },
  {
   "cell_type": "markdown",
   "id": "31873417",
   "metadata": {},
   "source": [
    "## Acurácia (taxa de acerto das classe do modelo) \n",
    "**NA MÃO"
   ]
  },
  {
   "cell_type": "code",
   "execution_count": 104,
   "id": "d0b1393e",
   "metadata": {},
   "outputs": [
    {
     "data": {
      "text/plain": [
       "array([ True,  True, False])"
      ]
     },
     "execution_count": 104,
     "metadata": {},
     "output_type": "execute_result"
    }
   ],
   "source": [
    "teste_y = [0,1,1]\n",
    "previsoes == teste_y"
   ]
  },
  {
   "cell_type": "code",
   "execution_count": 105,
   "id": "a2efcb79",
   "metadata": {},
   "outputs": [
    {
     "name": "stdout",
     "output_type": "stream",
     "text": [
      "A quantidade de previsões corretas foi: 2\n"
     ]
    }
   ],
   "source": [
    "qt_previsoes_corretas = (previsoes == teste_y).sum()\n",
    "print(f'A quantidade de previsões corretas foi: {qt_previsoes_corretas}')"
   ]
  },
  {
   "cell_type": "code",
   "execution_count": 106,
   "id": "46a91dff",
   "metadata": {},
   "outputs": [
    {
     "name": "stdout",
     "output_type": "stream",
     "text": [
      "O total de previsões foi: 3\n"
     ]
    }
   ],
   "source": [
    "total_previsoes = len(teste_x)\n",
    "print(f'O total de previsões foi: {total_previsoes}')"
   ]
  },
  {
   "cell_type": "code",
   "execution_count": 107,
   "id": "db26f710",
   "metadata": {},
   "outputs": [
    {
     "name": "stdout",
     "output_type": "stream",
     "text": [
      "A taxa de acertos foi de: 66.67\n"
     ]
    }
   ],
   "source": [
    "taxa_de_acertos = qt_previsoes_corretas/total_previsoes * 100\n",
    "print(f'A taxa de acertos foi de: {taxa_de_acertos.round(2)}')"
   ]
  },
  {
   "cell_type": "markdown",
   "id": "aa8a18f5",
   "metadata": {},
   "source": [
    "## Acurácia (taxa de acerto das classe do modelo) \n",
    "**FÓRMULA Acurácia"
   ]
  },
  {
   "cell_type": "code",
   "execution_count": 108,
   "id": "2d1585b8",
   "metadata": {},
   "outputs": [
    {
     "name": "stdout",
     "output_type": "stream",
     "text": [
      "A taxa de acertos foi de: 66.67\n"
     ]
    }
   ],
   "source": [
    "taxa_de_acertos = accuracy_score(teste_y, previsoes)*100\n",
    "print(f'A taxa de acertos foi de: {taxa_de_acertos.round(2)}')"
   ]
  },
  {
   "cell_type": "code",
   "execution_count": null,
   "id": "7e15570e",
   "metadata": {},
   "outputs": [],
   "source": []
  },
  {
   "cell_type": "code",
   "execution_count": null,
   "id": "9974f18d",
   "metadata": {},
   "outputs": [],
   "source": []
  }
 ],
 "metadata": {
  "kernelspec": {
   "display_name": "Python 3 (ipykernel)",
   "language": "python",
   "name": "python3"
  },
  "language_info": {
   "codemirror_mode": {
    "name": "ipython",
    "version": 3
   },
   "file_extension": ".py",
   "mimetype": "text/x-python",
   "name": "python",
   "nbconvert_exporter": "python",
   "pygments_lexer": "ipython3",
   "version": "3.10.9"
  }
 },
 "nbformat": 4,
 "nbformat_minor": 5
}
